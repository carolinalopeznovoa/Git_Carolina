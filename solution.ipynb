{
 "cells": [
  {
   "cell_type": "markdown",
   "id": "a4ae6819",
   "metadata": {},
   "source": [
    "# Desafio LATAM- Carolina López"
   ]
  },
  {
   "cell_type": "markdown",
   "id": "5434dc83",
   "metadata": {},
   "source": [
    "# 1. Carga de BBDD y Descriptivo Inicial"
   ]
  },
  {
   "cell_type": "code",
   "execution_count": 1,
   "id": "c5be9ca0",
   "metadata": {},
   "outputs": [],
   "source": [
    "#Lectura de BBDDD\n",
    "import pandas as pd"
   ]
  },
  {
   "cell_type": "code",
   "execution_count": 2,
   "id": "566ee615",
   "metadata": {},
   "outputs": [
    {
     "name": "stderr",
     "output_type": "stream",
     "text": [
      "C:\\ProgramData\\Anaconda3\\lib\\site-packages\\IPython\\core\\interactiveshell.py:3369: FutureWarning: In a future version of pandas all arguments of read_csv except for the argument 'filepath_or_buffer' will be keyword-only.\n",
      "  exec(code_obj, self.user_global_ns, self.user_ns)\n",
      "C:\\Users\\Carolina López\\AppData\\Local\\Temp\\ipykernel_4768\\2206522511.py:1: DtypeWarning: Columns (1,6) have mixed types. Specify dtype option on import or set low_memory=False.\n",
      "  base = pd.read_csv('dataset_SCL.csv', \",\")\n"
     ]
    }
   ],
   "source": [
    "base = pd.read_csv('dataset_SCL.csv', \",\")"
   ]
  },
  {
   "cell_type": "code",
   "execution_count": 3,
   "id": "cef7c5e6",
   "metadata": {},
   "outputs": [
    {
     "data": {
      "text/html": [
       "<div>\n",
       "<style scoped>\n",
       "    .dataframe tbody tr th:only-of-type {\n",
       "        vertical-align: middle;\n",
       "    }\n",
       "\n",
       "    .dataframe tbody tr th {\n",
       "        vertical-align: top;\n",
       "    }\n",
       "\n",
       "    .dataframe thead th {\n",
       "        text-align: right;\n",
       "    }\n",
       "</style>\n",
       "<table border=\"1\" class=\"dataframe\">\n",
       "  <thead>\n",
       "    <tr style=\"text-align: right;\">\n",
       "      <th></th>\n",
       "      <th>Fecha-I</th>\n",
       "      <th>Vlo-I</th>\n",
       "      <th>Ori-I</th>\n",
       "      <th>Des-I</th>\n",
       "      <th>Emp-I</th>\n",
       "      <th>Fecha-O</th>\n",
       "      <th>Vlo-O</th>\n",
       "      <th>Ori-O</th>\n",
       "      <th>Des-O</th>\n",
       "      <th>Emp-O</th>\n",
       "      <th>DIA</th>\n",
       "      <th>MES</th>\n",
       "      <th>AÑO</th>\n",
       "      <th>DIANOM</th>\n",
       "      <th>TIPOVUELO</th>\n",
       "      <th>OPERA</th>\n",
       "      <th>SIGLAORI</th>\n",
       "      <th>SIGLADES</th>\n",
       "    </tr>\n",
       "  </thead>\n",
       "  <tbody>\n",
       "    <tr>\n",
       "      <th>0</th>\n",
       "      <td>2017-01-01 23:30:00</td>\n",
       "      <td>226</td>\n",
       "      <td>SCEL</td>\n",
       "      <td>KMIA</td>\n",
       "      <td>AAL</td>\n",
       "      <td>2017-01-01 23:33:00</td>\n",
       "      <td>226</td>\n",
       "      <td>SCEL</td>\n",
       "      <td>KMIA</td>\n",
       "      <td>AAL</td>\n",
       "      <td>1</td>\n",
       "      <td>1</td>\n",
       "      <td>2017</td>\n",
       "      <td>Domingo</td>\n",
       "      <td>I</td>\n",
       "      <td>American Airlines</td>\n",
       "      <td>Santiago</td>\n",
       "      <td>Miami</td>\n",
       "    </tr>\n",
       "    <tr>\n",
       "      <th>1</th>\n",
       "      <td>2017-01-02 23:30:00</td>\n",
       "      <td>226</td>\n",
       "      <td>SCEL</td>\n",
       "      <td>KMIA</td>\n",
       "      <td>AAL</td>\n",
       "      <td>2017-01-02 23:39:00</td>\n",
       "      <td>226</td>\n",
       "      <td>SCEL</td>\n",
       "      <td>KMIA</td>\n",
       "      <td>AAL</td>\n",
       "      <td>2</td>\n",
       "      <td>1</td>\n",
       "      <td>2017</td>\n",
       "      <td>Lunes</td>\n",
       "      <td>I</td>\n",
       "      <td>American Airlines</td>\n",
       "      <td>Santiago</td>\n",
       "      <td>Miami</td>\n",
       "    </tr>\n",
       "    <tr>\n",
       "      <th>2</th>\n",
       "      <td>2017-01-03 23:30:00</td>\n",
       "      <td>226</td>\n",
       "      <td>SCEL</td>\n",
       "      <td>KMIA</td>\n",
       "      <td>AAL</td>\n",
       "      <td>2017-01-03 23:39:00</td>\n",
       "      <td>226</td>\n",
       "      <td>SCEL</td>\n",
       "      <td>KMIA</td>\n",
       "      <td>AAL</td>\n",
       "      <td>3</td>\n",
       "      <td>1</td>\n",
       "      <td>2017</td>\n",
       "      <td>Martes</td>\n",
       "      <td>I</td>\n",
       "      <td>American Airlines</td>\n",
       "      <td>Santiago</td>\n",
       "      <td>Miami</td>\n",
       "    </tr>\n",
       "    <tr>\n",
       "      <th>3</th>\n",
       "      <td>2017-01-04 23:30:00</td>\n",
       "      <td>226</td>\n",
       "      <td>SCEL</td>\n",
       "      <td>KMIA</td>\n",
       "      <td>AAL</td>\n",
       "      <td>2017-01-04 23:33:00</td>\n",
       "      <td>226</td>\n",
       "      <td>SCEL</td>\n",
       "      <td>KMIA</td>\n",
       "      <td>AAL</td>\n",
       "      <td>4</td>\n",
       "      <td>1</td>\n",
       "      <td>2017</td>\n",
       "      <td>Miercoles</td>\n",
       "      <td>I</td>\n",
       "      <td>American Airlines</td>\n",
       "      <td>Santiago</td>\n",
       "      <td>Miami</td>\n",
       "    </tr>\n",
       "    <tr>\n",
       "      <th>4</th>\n",
       "      <td>2017-01-05 23:30:00</td>\n",
       "      <td>226</td>\n",
       "      <td>SCEL</td>\n",
       "      <td>KMIA</td>\n",
       "      <td>AAL</td>\n",
       "      <td>2017-01-05 23:28:00</td>\n",
       "      <td>226</td>\n",
       "      <td>SCEL</td>\n",
       "      <td>KMIA</td>\n",
       "      <td>AAL</td>\n",
       "      <td>5</td>\n",
       "      <td>1</td>\n",
       "      <td>2017</td>\n",
       "      <td>Jueves</td>\n",
       "      <td>I</td>\n",
       "      <td>American Airlines</td>\n",
       "      <td>Santiago</td>\n",
       "      <td>Miami</td>\n",
       "    </tr>\n",
       "  </tbody>\n",
       "</table>\n",
       "</div>"
      ],
      "text/plain": [
       "               Fecha-I Vlo-I Ori-I Des-I Emp-I              Fecha-O Vlo-O  \\\n",
       "0  2017-01-01 23:30:00   226  SCEL  KMIA   AAL  2017-01-01 23:33:00   226   \n",
       "1  2017-01-02 23:30:00   226  SCEL  KMIA   AAL  2017-01-02 23:39:00   226   \n",
       "2  2017-01-03 23:30:00   226  SCEL  KMIA   AAL  2017-01-03 23:39:00   226   \n",
       "3  2017-01-04 23:30:00   226  SCEL  KMIA   AAL  2017-01-04 23:33:00   226   \n",
       "4  2017-01-05 23:30:00   226  SCEL  KMIA   AAL  2017-01-05 23:28:00   226   \n",
       "\n",
       "  Ori-O Des-O Emp-O  DIA  MES   AÑO     DIANOM TIPOVUELO              OPERA  \\\n",
       "0  SCEL  KMIA   AAL    1    1  2017    Domingo         I  American Airlines   \n",
       "1  SCEL  KMIA   AAL    2    1  2017      Lunes         I  American Airlines   \n",
       "2  SCEL  KMIA   AAL    3    1  2017     Martes         I  American Airlines   \n",
       "3  SCEL  KMIA   AAL    4    1  2017  Miercoles         I  American Airlines   \n",
       "4  SCEL  KMIA   AAL    5    1  2017     Jueves         I  American Airlines   \n",
       "\n",
       "   SIGLAORI SIGLADES  \n",
       "0  Santiago    Miami  \n",
       "1  Santiago    Miami  \n",
       "2  Santiago    Miami  \n",
       "3  Santiago    Miami  \n",
       "4  Santiago    Miami  "
      ]
     },
     "execution_count": 3,
     "metadata": {},
     "output_type": "execute_result"
    }
   ],
   "source": [
    "#revisión BBBDD\n",
    "base.head()"
   ]
  },
  {
   "cell_type": "code",
   "execution_count": 4,
   "id": "5a8d2bcc",
   "metadata": {},
   "outputs": [
    {
     "name": "stdout",
     "output_type": "stream",
     "text": [
      "<class 'pandas.core.frame.DataFrame'>\n",
      "RangeIndex: 68206 entries, 0 to 68205\n",
      "Data columns (total 18 columns):\n",
      " #   Column     Non-Null Count  Dtype \n",
      "---  ------     --------------  ----- \n",
      " 0   Fecha-I    68206 non-null  object\n",
      " 1   Vlo-I      68206 non-null  object\n",
      " 2   Ori-I      68206 non-null  object\n",
      " 3   Des-I      68206 non-null  object\n",
      " 4   Emp-I      68206 non-null  object\n",
      " 5   Fecha-O    68206 non-null  object\n",
      " 6   Vlo-O      68205 non-null  object\n",
      " 7   Ori-O      68206 non-null  object\n",
      " 8   Des-O      68206 non-null  object\n",
      " 9   Emp-O      68206 non-null  object\n",
      " 10  DIA        68206 non-null  int64 \n",
      " 11  MES        68206 non-null  int64 \n",
      " 12  AÑO        68206 non-null  int64 \n",
      " 13  DIANOM     68206 non-null  object\n",
      " 14  TIPOVUELO  68206 non-null  object\n",
      " 15  OPERA      68206 non-null  object\n",
      " 16  SIGLAORI   68206 non-null  object\n",
      " 17  SIGLADES   68206 non-null  object\n",
      "dtypes: int64(3), object(15)\n",
      "memory usage: 9.4+ MB\n"
     ]
    }
   ],
   "source": [
    "base.info()"
   ]
  },
  {
   "cell_type": "code",
   "execution_count": 5,
   "id": "681c3e6e",
   "metadata": {},
   "outputs": [],
   "source": [
    "base['Fecha-O'] = pd.to_datetime(base['Fecha-O'])"
   ]
  },
  {
   "cell_type": "code",
   "execution_count": 6,
   "id": "b17c3a66",
   "metadata": {},
   "outputs": [],
   "source": [
    "base['Fecha-I'] = pd.to_datetime(base['Fecha-I'])"
   ]
  },
  {
   "cell_type": "code",
   "execution_count": 7,
   "id": "7ee93919",
   "metadata": {},
   "outputs": [
    {
     "name": "stdout",
     "output_type": "stream",
     "text": [
      "<class 'pandas.core.frame.DataFrame'>\n",
      "RangeIndex: 68206 entries, 0 to 68205\n",
      "Data columns (total 18 columns):\n",
      " #   Column     Non-Null Count  Dtype         \n",
      "---  ------     --------------  -----         \n",
      " 0   Fecha-I    68206 non-null  datetime64[ns]\n",
      " 1   Vlo-I      68206 non-null  object        \n",
      " 2   Ori-I      68206 non-null  object        \n",
      " 3   Des-I      68206 non-null  object        \n",
      " 4   Emp-I      68206 non-null  object        \n",
      " 5   Fecha-O    68206 non-null  datetime64[ns]\n",
      " 6   Vlo-O      68205 non-null  object        \n",
      " 7   Ori-O      68206 non-null  object        \n",
      " 8   Des-O      68206 non-null  object        \n",
      " 9   Emp-O      68206 non-null  object        \n",
      " 10  DIA        68206 non-null  int64         \n",
      " 11  MES        68206 non-null  int64         \n",
      " 12  AÑO        68206 non-null  int64         \n",
      " 13  DIANOM     68206 non-null  object        \n",
      " 14  TIPOVUELO  68206 non-null  object        \n",
      " 15  OPERA      68206 non-null  object        \n",
      " 16  SIGLAORI   68206 non-null  object        \n",
      " 17  SIGLADES   68206 non-null  object        \n",
      "dtypes: datetime64[ns](2), int64(3), object(13)\n",
      "memory usage: 9.4+ MB\n"
     ]
    }
   ],
   "source": [
    "base.info()"
   ]
  },
  {
   "cell_type": "code",
   "execution_count": 8,
   "id": "2dba77ca",
   "metadata": {},
   "outputs": [],
   "source": [
    "import numpy as np"
   ]
  },
  {
   "cell_type": "code",
   "execution_count": 9,
   "id": "fac8b04d",
   "metadata": {},
   "outputs": [
    {
     "name": "stdout",
     "output_type": "stream",
     "text": [
      "<class 'pandas.core.frame.DataFrame'>\n",
      "RangeIndex: 68206 entries, 0 to 68205\n",
      "Data columns (total 18 columns):\n",
      " #   Column     Non-Null Count  Dtype         \n",
      "---  ------     --------------  -----         \n",
      " 0   Fecha-I    68206 non-null  datetime64[ns]\n",
      " 1   Vlo-I      68206 non-null  object        \n",
      " 2   Ori-I      68206 non-null  object        \n",
      " 3   Des-I      68206 non-null  object        \n",
      " 4   Emp-I      68206 non-null  object        \n",
      " 5   Fecha-O    68206 non-null  datetime64[ns]\n",
      " 6   Vlo-O      68205 non-null  object        \n",
      " 7   Ori-O      68206 non-null  object        \n",
      " 8   Des-O      68206 non-null  object        \n",
      " 9   Emp-O      68206 non-null  object        \n",
      " 10  DIA        68206 non-null  int64         \n",
      " 11  MES        68206 non-null  int64         \n",
      " 12  AÑO        68206 non-null  int64         \n",
      " 13  DIANOM     68206 non-null  object        \n",
      " 14  TIPOVUELO  68206 non-null  object        \n",
      " 15  OPERA      68206 non-null  object        \n",
      " 16  SIGLAORI   68206 non-null  object        \n",
      " 17  SIGLADES   68206 non-null  object        \n",
      "dtypes: datetime64[ns](2), int64(3), object(13)\n",
      "memory usage: 9.4+ MB\n"
     ]
    }
   ],
   "source": [
    "base.info()"
   ]
  },
  {
   "cell_type": "code",
   "execution_count": 10,
   "id": "ec552bef",
   "metadata": {},
   "outputs": [
    {
     "data": {
      "text/html": [
       "<div>\n",
       "<style scoped>\n",
       "    .dataframe tbody tr th:only-of-type {\n",
       "        vertical-align: middle;\n",
       "    }\n",
       "\n",
       "    .dataframe tbody tr th {\n",
       "        vertical-align: top;\n",
       "    }\n",
       "\n",
       "    .dataframe thead th {\n",
       "        text-align: right;\n",
       "    }\n",
       "</style>\n",
       "<table border=\"1\" class=\"dataframe\">\n",
       "  <thead>\n",
       "    <tr style=\"text-align: right;\">\n",
       "      <th></th>\n",
       "      <th>DIA</th>\n",
       "      <th>MES</th>\n",
       "      <th>AÑO</th>\n",
       "    </tr>\n",
       "  </thead>\n",
       "  <tbody>\n",
       "    <tr>\n",
       "      <th>count</th>\n",
       "      <td>68206.000000</td>\n",
       "      <td>68206.000000</td>\n",
       "      <td>68206.000000</td>\n",
       "    </tr>\n",
       "    <tr>\n",
       "      <th>mean</th>\n",
       "      <td>15.714790</td>\n",
       "      <td>6.622585</td>\n",
       "      <td>2017.000029</td>\n",
       "    </tr>\n",
       "    <tr>\n",
       "      <th>std</th>\n",
       "      <td>8.782886</td>\n",
       "      <td>3.523321</td>\n",
       "      <td>0.005415</td>\n",
       "    </tr>\n",
       "    <tr>\n",
       "      <th>min</th>\n",
       "      <td>1.000000</td>\n",
       "      <td>1.000000</td>\n",
       "      <td>2017.000000</td>\n",
       "    </tr>\n",
       "    <tr>\n",
       "      <th>25%</th>\n",
       "      <td>8.000000</td>\n",
       "      <td>3.000000</td>\n",
       "      <td>2017.000000</td>\n",
       "    </tr>\n",
       "    <tr>\n",
       "      <th>50%</th>\n",
       "      <td>16.000000</td>\n",
       "      <td>7.000000</td>\n",
       "      <td>2017.000000</td>\n",
       "    </tr>\n",
       "    <tr>\n",
       "      <th>75%</th>\n",
       "      <td>23.000000</td>\n",
       "      <td>10.000000</td>\n",
       "      <td>2017.000000</td>\n",
       "    </tr>\n",
       "    <tr>\n",
       "      <th>max</th>\n",
       "      <td>31.000000</td>\n",
       "      <td>12.000000</td>\n",
       "      <td>2018.000000</td>\n",
       "    </tr>\n",
       "  </tbody>\n",
       "</table>\n",
       "</div>"
      ],
      "text/plain": [
       "                DIA           MES           AÑO\n",
       "count  68206.000000  68206.000000  68206.000000\n",
       "mean      15.714790      6.622585   2017.000029\n",
       "std        8.782886      3.523321      0.005415\n",
       "min        1.000000      1.000000   2017.000000\n",
       "25%        8.000000      3.000000   2017.000000\n",
       "50%       16.000000      7.000000   2017.000000\n",
       "75%       23.000000     10.000000   2017.000000\n",
       "max       31.000000     12.000000   2018.000000"
      ]
     },
     "execution_count": 10,
     "metadata": {},
     "output_type": "execute_result"
    }
   ],
   "source": [
    "#descriptivo rápido bbdd\n",
    "base.describe()"
   ]
  },
  {
   "cell_type": "code",
   "execution_count": 11,
   "id": "450f5117",
   "metadata": {},
   "outputs": [],
   "source": [
    "# Descriptivo por Variable\n",
    "import matplotlib.pyplot as plt"
   ]
  },
  {
   "cell_type": "code",
   "execution_count": 12,
   "id": "376137d0",
   "metadata": {},
   "outputs": [
    {
     "data": {
      "text/plain": [
       "(array([11669.,  5482.,  5020.,  5240.,  4981.,  5992.,  5744.,  5610.,\n",
       "         6032., 12436.]),\n",
       " array([ 1. ,  2.1,  3.2,  4.3,  5.4,  6.5,  7.6,  8.7,  9.8, 10.9, 12. ]),\n",
       " <BarContainer object of 10 artists>)"
      ]
     },
     "execution_count": 12,
     "metadata": {},
     "output_type": "execute_result"
    },
    {
     "data": {
      "image/png": "[encoded data removed]",
      "text/plain": [
       "<Figure size 432x288 with 1 Axes>"
      ]
     },
     "metadata": {
      "needs_background": "light"
     },
     "output_type": "display_data"
    }
   ],
   "source": [
    "plt.hist(base['MES'])"
   ]
  },
  {
   "cell_type": "code",
   "execution_count": 13,
   "id": "bafa4f80",
   "metadata": {},
   "outputs": [
    {
     "name": "stdout",
     "output_type": "stream",
     "text": [
      "20    0.033575\n",
      "27    0.033516\n",
      "12    0.033487\n",
      "10    0.033472\n",
      "6     0.033355\n",
      "22    0.033311\n",
      "13    0.033311\n",
      "3     0.033296\n",
      "16    0.033252\n",
      "26    0.033238\n",
      "21    0.033238\n",
      "7     0.033194\n",
      "23    0.033135\n",
      "5     0.032856\n",
      "15    0.032827\n",
      "19    0.032812\n",
      "11    0.032798\n",
      "24    0.032724\n",
      "28    0.032724\n",
      "17    0.032666\n",
      "9     0.032651\n",
      "2     0.032592\n",
      "14    0.032563\n",
      "4     0.032475\n",
      "8     0.032446\n",
      "1     0.032373\n",
      "25    0.031947\n",
      "18    0.031669\n",
      "29    0.029968\n",
      "30    0.029616\n",
      "31    0.018913\n",
      "Name: DIA, dtype: float64\n"
     ]
    }
   ],
   "source": [
    "freq = base['DIA'].value_counts()/base[\"DIA\"].count()\n",
    "print(freq) "
   ]
  },
  {
   "cell_type": "code",
   "execution_count": 14,
   "id": "99165cec",
   "metadata": {},
   "outputs": [
    {
     "data": {
      "text/plain": [
       "(array([6702., 6731., 6704., 6804., 6732., 6656., 6795., 6764., 6732.,\n",
       "        7586.]),\n",
       " array([ 1.,  4.,  7., 10., 13., 16., 19., 22., 25., 28., 31.]),\n",
       " <BarContainer object of 10 artists>)"
      ]
     },
     "execution_count": 14,
     "metadata": {},
     "output_type": "execute_result"
    },
    {
     "data": {
      "image/png": "[encoded data removed]",
      "text/plain": [
       "<Figure size 432x288 with 1 Axes>"
      ]
     },
     "metadata": {
      "needs_background": "light"
     },
     "output_type": "display_data"
    }
   ],
   "source": [
    "plt.hist(base['DIA'])"
   ]
  },
  {
   "cell_type": "code",
   "execution_count": 15,
   "id": "4d04162a",
   "metadata": {
    "scrolled": false
   },
   "outputs": [
    {
     "data": {
      "text/plain": [
       "(array([6.8204e+04, 0.0000e+00, 0.0000e+00, 0.0000e+00, 0.0000e+00,\n",
       "        0.0000e+00, 0.0000e+00, 0.0000e+00, 0.0000e+00, 2.0000e+00]),\n",
       " array([2017. , 2017.1, 2017.2, 2017.3, 2017.4, 2017.5, 2017.6, 2017.7,\n",
       "        2017.8, 2017.9, 2018. ]),\n",
       " <BarContainer object of 10 artists>)"
      ]
     },
     "execution_count": 15,
     "metadata": {},
     "output_type": "execute_result"
    },
    {
     "data": {
      "image/png": "[encoded data removed]",
      "text/plain": [
       "<Figure size 432x288 with 1 Axes>"
      ]
     },
     "metadata": {
      "needs_background": "light"
     },
     "output_type": "display_data"
    }
   ],
   "source": [
    "plt.hist(base['AÑO'])"
   ]
  },
  {
   "cell_type": "code",
   "execution_count": 16,
   "id": "25876d62",
   "metadata": {},
   "outputs": [
    {
     "name": "stdout",
     "output_type": "stream",
     "text": [
      "Grupo LATAM                 0.599537\n",
      "Sky Airline                 0.209630\n",
      "Aerolineas Argentinas       0.028575\n",
      "Copa Air                    0.027124\n",
      "Latin American Wings        0.024543\n",
      "Avianca                     0.016890\n",
      "JetSmart SPA                0.016054\n",
      "Gol Trans                   0.011817\n",
      "American Airlines           0.011099\n",
      "Air Canada                  0.008284\n",
      "Iberia                      0.005307\n",
      "Delta Air                   0.005249\n",
      "Air France                  0.005249\n",
      "Aeromexico                  0.005146\n",
      "United Airlines             0.004912\n",
      "Oceanair Linhas Aereas      0.004091\n",
      "Alitalia                    0.003797\n",
      "K.L.M.                      0.003680\n",
      "British Airways             0.003006\n",
      "Qantas Airways              0.002859\n",
      "Lacsa                       0.001349\n",
      "Austral                     0.001085\n",
      "Plus Ultra Lineas Aereas    0.000718\n",
      "Name: OPERA, dtype: float64\n"
     ]
    }
   ],
   "source": [
    "freq = base['OPERA'].value_counts()/base[\"OPERA\"].count()\n",
    "print(freq) "
   ]
  },
  {
   "cell_type": "code",
   "execution_count": 17,
   "id": "3c000b2e",
   "metadata": {
    "scrolled": true
   },
   "outputs": [
    {
     "name": "stdout",
     "output_type": "stream",
     "text": [
      "Grupo LATAM                 40892\n",
      "Sky Airline                 14298\n",
      "Aerolineas Argentinas        1949\n",
      "Copa Air                     1850\n",
      "Latin American Wings         1674\n",
      "Avianca                      1152\n",
      "JetSmart SPA                 1095\n",
      "Gol Trans                     806\n",
      "American Airlines             757\n",
      "Air Canada                    565\n",
      "Iberia                        362\n",
      "Delta Air                     358\n",
      "Air France                    358\n",
      "Aeromexico                    351\n",
      "United Airlines               335\n",
      "Oceanair Linhas Aereas        279\n",
      "Alitalia                      259\n",
      "K.L.M.                        251\n",
      "British Airways               205\n",
      "Qantas Airways                195\n",
      "Lacsa                          92\n",
      "Austral                        74\n",
      "Plus Ultra Lineas Aereas       49\n",
      "Name: OPERA, dtype: int64\n"
     ]
    }
   ],
   "source": [
    "freq = base['OPERA'].value_counts()\n",
    "print(freq) "
   ]
  },
  {
   "cell_type": "code",
   "execution_count": 18,
   "id": "db857879",
   "metadata": {
    "scrolled": true
   },
   "outputs": [
    {
     "data": {
      "text/plain": [
       "(array([ 1680.,  2300.,  1226.,   464.,  2208.,  1419.,   530., 55190.,\n",
       "         1723.,  1466.]),\n",
       " array([ 0. ,  2.2,  4.4,  6.6,  8.8, 11. , 13.2, 15.4, 17.6, 19.8, 22. ]),\n",
       " <BarContainer object of 10 artists>)"
      ]
     },
     "execution_count": 18,
     "metadata": {},
     "output_type": "execute_result"
    },
    {
     "data": {
      "image/png": "[encoded data removed]",
      "text/plain": [
       "<Figure size 432x288 with 1 Axes>"
      ]
     },
     "metadata": {
      "needs_background": "light"
     },
     "output_type": "display_data"
    }
   ],
   "source": [
    "plt.hist(base['OPERA'])"
   ]
  },
  {
   "cell_type": "code",
   "execution_count": 19,
   "id": "f33e2109",
   "metadata": {},
   "outputs": [
    {
     "name": "stdout",
     "output_type": "stream",
     "text": [
      "Buenos Aires      6335\n",
      "Antofagasta       5786\n",
      "Lima              5270\n",
      "Calama            5146\n",
      "Puerto Montt      4357\n",
      "                  ... \n",
      "Quito                2\n",
      "Washington           1\n",
      "Pisco, Peru          1\n",
      "Puerto Stanley       1\n",
      "Cochabamba           1\n",
      "Name: SIGLADES, Length: 62, dtype: int64\n"
     ]
    }
   ],
   "source": [
    "freq = base['SIGLADES'].value_counts()\n",
    "print(freq) "
   ]
  },
  {
   "cell_type": "code",
   "execution_count": 20,
   "id": "895eec48",
   "metadata": {},
   "outputs": [
    {
     "name": "stdout",
     "output_type": "stream",
     "text": [
      "Santiago    1.0\n",
      "Name: SIGLAORI, dtype: float64\n"
     ]
    }
   ],
   "source": [
    "freq = base['SIGLAORI'].value_counts()/base[\"SIGLAORI\"].count()\n",
    "print(freq) "
   ]
  },
  {
   "cell_type": "code",
   "execution_count": 21,
   "id": "6e2d5c39",
   "metadata": {},
   "outputs": [
    {
     "data": {
      "text/plain": [
       "(array([31240.,     0.,     0.,     0.,     0.,     0.,     0.,     0.,\n",
       "            0., 36966.]),\n",
       " array([0. , 0.1, 0.2, 0.3, 0.4, 0.5, 0.6, 0.7, 0.8, 0.9, 1. ]),\n",
       " <BarContainer object of 10 artists>)"
      ]
     },
     "execution_count": 21,
     "metadata": {},
     "output_type": "execute_result"
    },
    {
     "data": {
      "image/png": "[encoded data removed]",
      "text/plain": [
       "<Figure size 432x288 with 1 Axes>"
      ]
     },
     "metadata": {
      "needs_background": "light"
     },
     "output_type": "display_data"
    }
   ],
   "source": [
    "plt.hist(base['TIPOVUELO'])"
   ]
  },
  {
   "cell_type": "code",
   "execution_count": 22,
   "id": "9fb2e10e",
   "metadata": {
    "scrolled": true
   },
   "outputs": [
    {
     "name": "stdout",
     "output_type": "stream",
     "text": [
      "Viernes      0.150896\n",
      "Jueves       0.150295\n",
      "Lunes        0.148535\n",
      "Domingo      0.143624\n",
      "Miercoles    0.142539\n",
      "Martes       0.141659\n",
      "Sabado       0.122453\n",
      "Name: DIANOM, dtype: float64\n"
     ]
    }
   ],
   "source": [
    "freq = base['DIANOM'].value_counts()/base[\"DIANOM\"].count()\n",
    "print(freq) "
   ]
  },
  {
   "cell_type": "markdown",
   "id": "4e0fc2eb",
   "metadata": {},
   "source": [
    "# RESUMEN DESCRIPTIVO\n",
    "Solo hay vuelos del año 2017, en Diciembre y Enero es dónde hay peak de vuelos\n",
    "El resto de los meses se distribuyen de manera similar.\n",
    "A final de mes es donde se concentran una mayor cantidad de vuelos.\n",
    "60% de los vuelos son operados por el Grupo LATAM , un 20% por SKY y el restante por otras aerolinea.\n",
    "Principales Destinos Buenos Aires, Lima, Antofagasta y Calama.\n",
    "Una Mayor cantidad de vuelos Nacionales que Internacionales.\n",
    "Una Leve mayoría de vuelos programados para días viernes y Jueves que para el resto de la semana."
   ]
  },
  {
   "cell_type": "markdown",
   "id": "32eab0ea",
   "metadata": {},
   "source": [
    "# 2. Genera las columnas adicionales y exportar CSV"
   ]
  },
  {
   "cell_type": "code",
   "execution_count": 23,
   "id": "fe866e23",
   "metadata": {},
   "outputs": [],
   "source": [
    "base['temporada_alta'] = np.where((base['Fecha-I'].between('2017-12-15', '2017-03-03', inclusive='both')) | (base['Fecha-I'].between('2017-07-15', '2017-07-31', inclusive='both')) | (base['Fecha-I'].between('2017-09-11', '2017-09-30', inclusive='both')) , 1, 0)"
   ]
  },
  {
   "cell_type": "code",
   "execution_count": 24,
   "id": "059a8336",
   "metadata": {},
   "outputs": [
    {
     "name": "stdout",
     "output_type": "stream",
     "text": [
      "0    61520\n",
      "1     6686\n",
      "Name: temporada_alta, dtype: int64\n"
     ]
    }
   ],
   "source": [
    "freq = base['temporada_alta'].value_counts()\n",
    "print(freq) "
   ]
  },
  {
   "cell_type": "code",
   "execution_count": 25,
   "id": "d4198a95",
   "metadata": {},
   "outputs": [],
   "source": [
    "import datetime"
   ]
  },
  {
   "cell_type": "code",
   "execution_count": 26,
   "id": "8197d4a8",
   "metadata": {},
   "outputs": [],
   "source": [
    "dif=base['Fecha-O'] - base['Fecha-I']"
   ]
  },
  {
   "cell_type": "code",
   "execution_count": 27,
   "id": "c5ac628a",
   "metadata": {},
   "outputs": [],
   "source": [
    "dif_min=(dif.dt.total_seconds())/60"
   ]
  },
  {
   "cell_type": "code",
   "execution_count": 28,
   "id": "c5d94708",
   "metadata": {},
   "outputs": [],
   "source": [
    "base['dif_min']=dif_min"
   ]
  },
  {
   "cell_type": "code",
   "execution_count": 29,
   "id": "12e8905d",
   "metadata": {},
   "outputs": [],
   "source": [
    "base['atraso_15'] = np.where((base.dif_min>15), 1, 0)"
   ]
  },
  {
   "cell_type": "code",
   "execution_count": 30,
   "id": "314f4755",
   "metadata": {},
   "outputs": [],
   "source": [
    "base['Periodo_Dia']=  np.where((base['Fecha-I'].dt.hour.between(5,11, inclusive='both')) , \"Mañana\", np.where((base['Fecha-I'].dt.hour.between(12,18, inclusive='both')) , \"Tarde\", \"Noche\"))"
   ]
  },
  {
   "cell_type": "code",
   "execution_count": 31,
   "id": "ab5b376b",
   "metadata": {},
   "outputs": [
    {
     "name": "stdout",
     "output_type": "stream",
     "text": [
      "Tarde     25506\n",
      "Mañana    25352\n",
      "Noche     17348\n",
      "Name: Periodo_Dia, dtype: int64\n"
     ]
    }
   ],
   "source": [
    "freq = base['Periodo_Dia'].value_counts()\n",
    "print(freq) "
   ]
  },
  {
   "cell_type": "code",
   "execution_count": 32,
   "id": "ecf1b168",
   "metadata": {},
   "outputs": [],
   "source": [
    "export_csv = base[['temporada_alta', 'dif_min', 'atraso_15', 'Periodo_Dia' ]]"
   ]
  },
  {
   "cell_type": "code",
   "execution_count": 33,
   "id": "f64d3e3f",
   "metadata": {},
   "outputs": [
    {
     "name": "stdout",
     "output_type": "stream",
     "text": [
      "<class 'pandas.core.frame.DataFrame'>\n",
      "RangeIndex: 68206 entries, 0 to 68205\n",
      "Data columns (total 4 columns):\n",
      " #   Column          Non-Null Count  Dtype  \n",
      "---  ------          --------------  -----  \n",
      " 0   temporada_alta  68206 non-null  int32  \n",
      " 1   dif_min         68206 non-null  float64\n",
      " 2   atraso_15       68206 non-null  int32  \n",
      " 3   Periodo_Dia     68206 non-null  object \n",
      "dtypes: float64(1), int32(2), object(1)\n",
      "memory usage: 1.6+ MB\n"
     ]
    }
   ],
   "source": [
    "export_csv.info()"
   ]
  },
  {
   "cell_type": "code",
   "execution_count": 34,
   "id": "091c6778",
   "metadata": {
    "scrolled": true
   },
   "outputs": [
    {
     "data": {
      "text/html": [
       "<div>\n",
       "<style scoped>\n",
       "    .dataframe tbody tr th:only-of-type {\n",
       "        vertical-align: middle;\n",
       "    }\n",
       "\n",
       "    .dataframe tbody tr th {\n",
       "        vertical-align: top;\n",
       "    }\n",
       "\n",
       "    .dataframe thead th {\n",
       "        text-align: right;\n",
       "    }\n",
       "</style>\n",
       "<table border=\"1\" class=\"dataframe\">\n",
       "  <thead>\n",
       "    <tr style=\"text-align: right;\">\n",
       "      <th></th>\n",
       "      <th>temporada_alta</th>\n",
       "      <th>dif_min</th>\n",
       "      <th>atraso_15</th>\n",
       "      <th>Periodo_Dia</th>\n",
       "    </tr>\n",
       "  </thead>\n",
       "  <tbody>\n",
       "    <tr>\n",
       "      <th>0</th>\n",
       "      <td>0</td>\n",
       "      <td>3.0</td>\n",
       "      <td>0</td>\n",
       "      <td>Noche</td>\n",
       "    </tr>\n",
       "    <tr>\n",
       "      <th>1</th>\n",
       "      <td>0</td>\n",
       "      <td>9.0</td>\n",
       "      <td>0</td>\n",
       "      <td>Noche</td>\n",
       "    </tr>\n",
       "    <tr>\n",
       "      <th>2</th>\n",
       "      <td>0</td>\n",
       "      <td>9.0</td>\n",
       "      <td>0</td>\n",
       "      <td>Noche</td>\n",
       "    </tr>\n",
       "    <tr>\n",
       "      <th>3</th>\n",
       "      <td>0</td>\n",
       "      <td>3.0</td>\n",
       "      <td>0</td>\n",
       "      <td>Noche</td>\n",
       "    </tr>\n",
       "    <tr>\n",
       "      <th>4</th>\n",
       "      <td>0</td>\n",
       "      <td>-2.0</td>\n",
       "      <td>0</td>\n",
       "      <td>Noche</td>\n",
       "    </tr>\n",
       "  </tbody>\n",
       "</table>\n",
       "</div>"
      ],
      "text/plain": [
       "   temporada_alta  dif_min  atraso_15 Periodo_Dia\n",
       "0               0      3.0          0       Noche\n",
       "1               0      9.0          0       Noche\n",
       "2               0      9.0          0       Noche\n",
       "3               0      3.0          0       Noche\n",
       "4               0     -2.0          0       Noche"
      ]
     },
     "execution_count": 34,
     "metadata": {},
     "output_type": "execute_result"
    }
   ],
   "source": [
    "export_csv.head()"
   ]
  },
  {
   "cell_type": "markdown",
   "id": "4c2d63ec",
   "metadata": {},
   "source": [
    "# 3.Análisis Tasas de Atraso"
   ]
  },
  {
   "cell_type": "code",
   "execution_count": 35,
   "id": "269281df",
   "metadata": {
    "scrolled": true
   },
   "outputs": [
    {
     "name": "stdout",
     "output_type": "stream",
     "text": [
      "0    55592\n",
      "1    12614\n",
      "Name: atraso_15, dtype: int64\n"
     ]
    }
   ],
   "source": [
    "freq = base['atraso_15'].value_counts()\n",
    "print(freq) "
   ]
  },
  {
   "cell_type": "code",
   "execution_count": 36,
   "id": "95550ef7",
   "metadata": {},
   "outputs": [
    {
     "name": "stdout",
     "output_type": "stream",
     "text": [
      "Tasa Atraso :18.493974137172682\n"
     ]
    }
   ],
   "source": [
    "tn0 = base['atraso_15'].sum()/base['atraso_15'].count()\n",
    "\n",
    "print(\"Tasa Atraso :\" + str(100*tn0))"
   ]
  },
  {
   "cell_type": "code",
   "execution_count": 37,
   "id": "0f7bd74b",
   "metadata": {},
   "outputs": [
    {
     "name": "stdout",
     "output_type": "stream",
     "text": [
      "Tarde     25506\n",
      "Mañana    25352\n",
      "Noche     17348\n",
      "Name: Periodo_Dia, dtype: int64\n"
     ]
    }
   ],
   "source": [
    "freq = base['Periodo_Dia'].value_counts()\n",
    "print(freq) "
   ]
  },
  {
   "cell_type": "code",
   "execution_count": 38,
   "id": "e15b252e",
   "metadata": {},
   "outputs": [
    {
     "name": "stdout",
     "output_type": "stream",
     "text": [
      "Periodo_Dia\n",
      "Mañana    0.160066\n",
      "Noche     0.200023\n",
      "Tarde     0.199404\n",
      "Name: atraso_15, dtype: float64\n"
     ]
    }
   ],
   "source": [
    "averages = base.groupby('Periodo_Dia')['atraso_15'].mean()\n",
    "print(averages)"
   ]
  },
  {
   "cell_type": "code",
   "execution_count": 39,
   "id": "1af34dc5",
   "metadata": {},
   "outputs": [
    {
     "name": "stdout",
     "output_type": "stream",
     "text": [
      "MES\n",
      "1     0.160118\n",
      "2     0.151591\n",
      "3     0.115104\n",
      "4     0.116534\n",
      "5     0.157824\n",
      "6     0.171050\n",
      "7     0.293391\n",
      "8     0.173398\n",
      "9     0.172371\n",
      "10    0.225962\n",
      "11    0.197204\n",
      "12    0.254091\n",
      "Name: atraso_15, dtype: float64\n"
     ]
    }
   ],
   "source": [
    "averages = base.groupby('MES')['atraso_15'].mean()\n",
    "print(averages)"
   ]
  },
  {
   "cell_type": "code",
   "execution_count": 40,
   "id": "73341c5b",
   "metadata": {},
   "outputs": [
    {
     "name": "stdout",
     "output_type": "stream",
     "text": [
      "DIANOM\n",
      "Domingo      0.161086\n",
      "Jueves       0.199493\n",
      "Lunes        0.202152\n",
      "Martes       0.169116\n",
      "Miercoles    0.170850\n",
      "Sabado       0.163194\n",
      "Viernes      0.222017\n",
      "Name: atraso_15, dtype: float64\n"
     ]
    }
   ],
   "source": [
    "averages = base.groupby('DIANOM')['atraso_15'].mean()\n",
    "print(averages)"
   ]
  },
  {
   "cell_type": "code",
   "execution_count": 41,
   "id": "57e8e736",
   "metadata": {},
   "outputs": [
    {
     "name": "stdout",
     "output_type": "stream",
     "text": [
      "temporada_alta\n",
      "0    0.180267\n",
      "1    0.227939\n",
      "Name: atraso_15, dtype: float64\n"
     ]
    }
   ],
   "source": [
    "averages = base.groupby('temporada_alta')['atraso_15'].mean()\n",
    "print(averages)"
   ]
  },
  {
   "cell_type": "code",
   "execution_count": 42,
   "id": "623c1efc",
   "metadata": {},
   "outputs": [
    {
     "name": "stdout",
     "output_type": "stream",
     "text": [
      "TIPOVUELO\n",
      "I    0.225608\n",
      "N    0.150571\n",
      "Name: atraso_15, dtype: float64\n"
     ]
    }
   ],
   "source": [
    "averages = base.groupby('TIPOVUELO')['atraso_15'].mean()\n",
    "print(averages)"
   ]
  },
  {
   "cell_type": "code",
   "execution_count": 43,
   "id": "59017352",
   "metadata": {},
   "outputs": [
    {
     "name": "stdout",
     "output_type": "stream",
     "text": [
      "OPERA\n",
      "Aerolineas Argentinas       0.240123\n",
      "Aeromexico                  0.028490\n",
      "Air Canada                  0.456637\n",
      "Air France                  0.083799\n",
      "Alitalia                    0.111969\n",
      "American Airlines           0.067371\n",
      "Austral                     0.202703\n",
      "Avianca                     0.265625\n",
      "British Airways             0.141463\n",
      "Copa Air                    0.062703\n",
      "Delta Air                   0.058659\n",
      "Gol Trans                   0.356079\n",
      "Grupo LATAM                 0.178666\n",
      "Iberia                      0.099448\n",
      "JetSmart SPA                0.178995\n",
      "K.L.M.                      0.083665\n",
      "Lacsa                       0.119565\n",
      "Latin American Wings        0.406810\n",
      "Oceanair Linhas Aereas      0.154122\n",
      "Plus Ultra Lineas Aereas    0.612245\n",
      "Qantas Airways              0.579487\n",
      "Sky Airline                 0.177647\n",
      "United Airlines             0.050746\n",
      "Name: atraso_15, dtype: float64\n"
     ]
    }
   ],
   "source": [
    "averages = base.groupby('OPERA')['atraso_15'].mean()\n",
    "print(averages)"
   ]
  },
  {
   "cell_type": "code",
   "execution_count": 44,
   "id": "729a4fc1",
   "metadata": {
    "scrolled": false
   },
   "outputs": [
    {
     "name": "stdout",
     "output_type": "stream",
     "text": [
      "SIGLADES\n",
      "Antofagasta      0.146388\n",
      "Arica            0.135468\n",
      "Asuncion         0.284483\n",
      "Atlanta          0.058659\n",
      "Auckland N.Z.    0.373961\n",
      "                   ...   \n",
      "Toronto          0.314488\n",
      "Tucuman          0.263158\n",
      "Ushuia           0.666667\n",
      "Valdivia         0.155378\n",
      "Washington       0.000000\n",
      "Name: atraso_15, Length: 62, dtype: float64\n"
     ]
    }
   ],
   "source": [
    "averages = base.groupby('SIGLADES')['atraso_15'].mean()\n",
    "print(averages)"
   ]
  },
  {
   "cell_type": "code",
   "execution_count": 45,
   "id": "4d89c3db",
   "metadata": {},
   "outputs": [
    {
     "name": "stdout",
     "output_type": "stream",
     "text": [
      "DIA\n",
      "1     0.148551\n",
      "2     0.158345\n",
      "3     0.176134\n",
      "4     0.189616\n",
      "5     0.174476\n",
      "6     0.197363\n",
      "7     0.158127\n",
      "8     0.162223\n",
      "9     0.178267\n",
      "10    0.225580\n",
      "11    0.232454\n",
      "12    0.190893\n",
      "13    0.181778\n",
      "14    0.202161\n",
      "15    0.242966\n",
      "16    0.206349\n",
      "17    0.195242\n",
      "18    0.190741\n",
      "19    0.174710\n",
      "20    0.196070\n",
      "21    0.191442\n",
      "22    0.191901\n",
      "23    0.179646\n",
      "24    0.171595\n",
      "25    0.183570\n",
      "26    0.199824\n",
      "27    0.159668\n",
      "28    0.169355\n",
      "29    0.167319\n",
      "30    0.162376\n",
      "31    0.157364\n",
      "Name: atraso_15, dtype: float64\n"
     ]
    }
   ],
   "source": [
    "averages = base.groupby('DIA')['atraso_15'].mean()\n",
    "print(averages)             "
   ]
  },
  {
   "cell_type": "markdown",
   "id": "b827ad8e",
   "metadata": {},
   "source": [
    "# Resumen Análisis Tasas de Atraso\n",
    "\n",
    "La tasa de atrasos de todos los vuelos es de un 18%.\n",
    "\n",
    "La cual se ve afectada por varias variables:\n",
    "\n",
    "-En los vuelos nocturnos la tasa aumenta a un 20% y Tarde un 19%, y durante la mañana los vuelos tienen una tasa de 16%, por lo tanto a medida que va finalizando el día, las tasas de atraso sufren un aumento. Esta variable podría explicar la probabilidad de atraso.\n",
    "\n",
    "-Los días de la semana también influyen en la tasa de atraso, la tasa aumenta cuando los vuelos se realizan día viernes, alrededor de un 22%, seguido de día Lunes (20%). Esta variable también podría explicar probabilidad de atraso.\n",
    "\n",
    "-Temporada baja versus alta también afecta (18% y 22% respectivamente).Esta variable también podría explicar probabilidad de atraso.\n",
    "\n",
    "-Los vuelos internacionales tienen una mayor tasa de atraso que los vuelos nacionales 22% vs 15%. Esta variable también podría explicar probabilidad de atraso.\n",
    "\n",
    "-Respecto al mes en los meses de diciembre, octubre y Julio es donde existe una mayor tasa de atraso, por sobre 20%, en diciembre llegando a un 25%.Esta variable también podría explicar probabilidad de atraso.\n",
    "\n",
    "-Tambien existe diferencia en las tasas de atraso según la Aerolinea que opera los vuelos, por lo tanto también podría predecir la probilidad de atraso, lo mismo ocurre con los destinos, pero habría que analizar si las aerolineas están relacionadas con el destino (que es lo esperable), debido a que las aerolineas tienen fijados sus destinos.\n",
    "\n"
   ]
  },
  {
   "cell_type": "markdown",
   "id": "cf889110",
   "metadata": {},
   "source": [
    "# 4 Entrenamiento del Modelo- Probabilidad de Atraso\n",
    "\n",
    "Para entrenar el Modelo se tendran que generar variables nuevas a partir de la fecha y hora programa del vuelo (Fecha-I).\n",
    "Debido a que las variables que están generadas son a partir de la fecha de operación del vuelo (estas variables son en relación al futuro). Para poder entrenar el modelo no le podemos entregar información del Futuro, esto solo nos permitió armar si el vuelo está atrasado o no (target)\n"
   ]
  },
  {
   "cell_type": "code",
   "execution_count": 46,
   "id": "ab5cfb0f",
   "metadata": {},
   "outputs": [],
   "source": [
    "base['mes_i']=base['Fecha-I'].dt.month"
   ]
  },
  {
   "cell_type": "code",
   "execution_count": 47,
   "id": "755215a2",
   "metadata": {},
   "outputs": [],
   "source": [
    "base['dia_i']=base['Fecha-I'].dt.day"
   ]
  },
  {
   "cell_type": "code",
   "execution_count": 48,
   "id": "f09acb3d",
   "metadata": {},
   "outputs": [],
   "source": [
    "import calendar\n",
    "base['dianom_i']=base['Fecha-I'].dt.strftime('%A')"
   ]
  },
  {
   "cell_type": "code",
   "execution_count": 49,
   "id": "98dc8893",
   "metadata": {},
   "outputs": [],
   "source": [
    "base['hora_i']=base['Fecha-I'].dt.hour"
   ]
  },
  {
   "cell_type": "code",
   "execution_count": 50,
   "id": "411e2242",
   "metadata": {},
   "outputs": [
    {
     "name": "stderr",
     "output_type": "stream",
     "text": [
      "C:\\Users\\Carolina López\\AppData\\Local\\Temp\\ipykernel_4768\\150252257.py:1: FutureWarning: Series.dt.weekofyear and Series.dt.week have been deprecated. Please use Series.dt.isocalendar().week instead.\n",
      "  base['semana_i']=base['Fecha-I'].dt.week\n"
     ]
    }
   ],
   "source": [
    "base['semana_i']=base['Fecha-I'].dt.week\n"
   ]
  },
  {
   "cell_type": "code",
   "execution_count": 51,
   "id": "3cfc264f",
   "metadata": {},
   "outputs": [],
   "source": [
    "#Creación de variable Binaria de quien opera, solo para aquellos que tienen mayor frecuencia\n",
    "base['opera_latam']=np.where((base['OPERA']==\"Grupo LATAM\"),1,0)"
   ]
  },
  {
   "cell_type": "code",
   "execution_count": 52,
   "id": "b81b2f8d",
   "metadata": {},
   "outputs": [],
   "source": [
    "#Creación de variable Binaria de quien opera, solo para aquellos que tienen mayor frecuencia\n",
    "base['opera_sky']=np.where((base['OPERA']==\"Sky Airline\"),1,0)"
   ]
  },
  {
   "cell_type": "code",
   "execution_count": 53,
   "id": "a00766bd",
   "metadata": {},
   "outputs": [],
   "source": [
    "base['opera_otro']=np.where((base['OPERA']==\"Sky Airline\"),0,np.where((base['OPERA']==\"Grupo LATAM\") ,0,1))"
   ]
  },
  {
   "cell_type": "code",
   "execution_count": 54,
   "id": "bbcc31c2",
   "metadata": {},
   "outputs": [],
   "source": [
    "base['flag_tipo_vuelo']=np.where((base['TIPOVUELO']==\"I\"),1,0)"
   ]
  },
  {
   "cell_type": "code",
   "execution_count": 55,
   "id": "730eaf90",
   "metadata": {},
   "outputs": [],
   "source": [
    "base['flag_mañana']=np.where((base['Periodo_Dia']==\"Mañana\"),1,0)"
   ]
  },
  {
   "cell_type": "code",
   "execution_count": 56,
   "id": "9f7329a0",
   "metadata": {},
   "outputs": [],
   "source": [
    "base['flag_tarde']=np.where((base['Periodo_Dia']==\"Tarde\"),1,0)"
   ]
  },
  {
   "cell_type": "code",
   "execution_count": 57,
   "id": "84b22d2c",
   "metadata": {},
   "outputs": [],
   "source": [
    "base['flag_noche']=np.where((base['Periodo_Dia']==\"Noche\"),1,0)"
   ]
  },
  {
   "cell_type": "code",
   "execution_count": 58,
   "id": "f06ca73e",
   "metadata": {},
   "outputs": [
    {
     "name": "stdout",
     "output_type": "stream",
     "text": [
      "dianom_i\n",
      "Friday       0.223480\n",
      "Monday       0.201129\n",
      "Saturday     0.159764\n",
      "Sunday       0.162616\n",
      "Thursday     0.199122\n",
      "Tuesday      0.169460\n",
      "Wednesday    0.171705\n",
      "Name: atraso_15, dtype: float64\n"
     ]
    }
   ],
   "source": [
    "averages = base.groupby('dianom_i')['atraso_15'].mean()\n",
    "print(averages)"
   ]
  },
  {
   "cell_type": "code",
   "execution_count": 59,
   "id": "6e98c79d",
   "metadata": {},
   "outputs": [],
   "source": [
    "#generando variable de marca de fin de semana\n",
    "base['fin_de_semana']=np.where((base['dianom_i']==\"Sunday\") | (base['dianom_i']==\"Saturday\") , 1, 0)"
   ]
  },
  {
   "cell_type": "code",
   "execution_count": 60,
   "id": "50288a8d",
   "metadata": {},
   "outputs": [
    {
     "name": "stdout",
     "output_type": "stream",
     "text": [
      "dianom_i\n",
      "Friday          0\n",
      "Monday          0\n",
      "Saturday     8306\n",
      "Sunday       9833\n",
      "Thursday        0\n",
      "Tuesday         0\n",
      "Wednesday       0\n",
      "Name: fin_de_semana, dtype: int32\n"
     ]
    }
   ],
   "source": [
    "#validacion que quedo bien\n",
    "averages = base.groupby('dianom_i')['fin_de_semana'].sum()\n",
    "print(averages)"
   ]
  },
  {
   "cell_type": "code",
   "execution_count": 61,
   "id": "1ff03481",
   "metadata": {},
   "outputs": [
    {
     "name": "stdout",
     "output_type": "stream",
     "text": [
      "<class 'pandas.core.frame.DataFrame'>\n",
      "RangeIndex: 68206 entries, 0 to 68205\n",
      "Data columns (total 35 columns):\n",
      " #   Column           Non-Null Count  Dtype         \n",
      "---  ------           --------------  -----         \n",
      " 0   Fecha-I          68206 non-null  datetime64[ns]\n",
      " 1   Vlo-I            68206 non-null  object        \n",
      " 2   Ori-I            68206 non-null  object        \n",
      " 3   Des-I            68206 non-null  object        \n",
      " 4   Emp-I            68206 non-null  object        \n",
      " 5   Fecha-O          68206 non-null  datetime64[ns]\n",
      " 6   Vlo-O            68205 non-null  object        \n",
      " 7   Ori-O            68206 non-null  object        \n",
      " 8   Des-O            68206 non-null  object        \n",
      " 9   Emp-O            68206 non-null  object        \n",
      " 10  DIA              68206 non-null  int64         \n",
      " 11  MES              68206 non-null  int64         \n",
      " 12  AÑO              68206 non-null  int64         \n",
      " 13  DIANOM           68206 non-null  object        \n",
      " 14  TIPOVUELO        68206 non-null  object        \n",
      " 15  OPERA            68206 non-null  object        \n",
      " 16  SIGLAORI         68206 non-null  object        \n",
      " 17  SIGLADES         68206 non-null  object        \n",
      " 18  temporada_alta   68206 non-null  int32         \n",
      " 19  dif_min          68206 non-null  float64       \n",
      " 20  atraso_15        68206 non-null  int32         \n",
      " 21  Periodo_Dia      68206 non-null  object        \n",
      " 22  mes_i            68206 non-null  int64         \n",
      " 23  dia_i            68206 non-null  int64         \n",
      " 24  dianom_i         68206 non-null  object        \n",
      " 25  hora_i           68206 non-null  int64         \n",
      " 26  semana_i         68206 non-null  int64         \n",
      " 27  opera_latam      68206 non-null  int32         \n",
      " 28  opera_sky        68206 non-null  int32         \n",
      " 29  opera_otro       68206 non-null  int32         \n",
      " 30  flag_tipo_vuelo  68206 non-null  int32         \n",
      " 31  flag_mañana      68206 non-null  int32         \n",
      " 32  flag_tarde       68206 non-null  int32         \n",
      " 33  flag_noche       68206 non-null  int32         \n",
      " 34  fin_de_semana    68206 non-null  int32         \n",
      "dtypes: datetime64[ns](2), float64(1), int32(10), int64(7), object(15)\n",
      "memory usage: 15.6+ MB\n"
     ]
    }
   ],
   "source": [
    "base.info()"
   ]
  },
  {
   "cell_type": "code",
   "execution_count": 62,
   "id": "e60231f6",
   "metadata": {},
   "outputs": [
    {
     "name": "stdout",
     "output_type": "stream",
     "text": [
      "1    40892\n",
      "0    27314\n",
      "Name: opera_latam, dtype: int64\n"
     ]
    }
   ],
   "source": [
    "freq = base['opera_latam'].value_counts()\n",
    "print(freq) "
   ]
  },
  {
   "cell_type": "code",
   "execution_count": 63,
   "id": "20fdcad4",
   "metadata": {},
   "outputs": [],
   "source": [
    "# Crear target tenencia sobre aasuc\n",
    "base['target'] = base['atraso_15']\n"
   ]
  },
  {
   "cell_type": "code",
   "execution_count": 64,
   "id": "47d9a233",
   "metadata": {},
   "outputs": [
    {
     "name": "stdout",
     "output_type": "stream",
     "text": [
      "0    55592\n",
      "1    12614\n",
      "Name: atraso_15, dtype: int64\n"
     ]
    }
   ],
   "source": [
    "freq = base['atraso_15'].value_counts()\n",
    "print(freq) "
   ]
  },
  {
   "cell_type": "code",
   "execution_count": 65,
   "id": "3398f1bf",
   "metadata": {},
   "outputs": [
    {
     "name": "stdout",
     "output_type": "stream",
     "text": [
      "Tasa Natural Atrasos de Vuelos :18.493974137172682\n"
     ]
    }
   ],
   "source": [
    "tn0 = base[\"atraso_15\"].sum()/base[\"atraso_15\"].count()\n",
    "\n",
    "print(\"Tasa Natural Atrasos de Vuelos :\" + str(100*tn0))"
   ]
  },
  {
   "cell_type": "code",
   "execution_count": 66,
   "id": "e60e686a",
   "metadata": {},
   "outputs": [],
   "source": [
    "from sklearn.model_selection import train_test_split"
   ]
  },
  {
   "cell_type": "code",
   "execution_count": 67,
   "id": "5111866b",
   "metadata": {},
   "outputs": [],
   "source": [
    "y0 = base['atraso_15']"
   ]
  },
  {
   "cell_type": "code",
   "execution_count": 68,
   "id": "96789c38",
   "metadata": {},
   "outputs": [],
   "source": [
    "X0= base[['temporada_alta', 'semana_i', 'mes_i', 'dia_i', 'hora_i', 'opera_latam', 'opera_sky', 'opera_otro', 'fin_de_semana', 'flag_tipo_vuelo']]"
   ]
  },
  {
   "cell_type": "code",
   "execution_count": 69,
   "id": "a35417a8",
   "metadata": {},
   "outputs": [],
   "source": [
    "X0_train, X0_test, y0_train, y0_test = train_test_split(X0, y0)"
   ]
  },
  {
   "cell_type": "code",
   "execution_count": 70,
   "id": "2c023608",
   "metadata": {},
   "outputs": [
    {
     "data": {
      "text/plain": [
       "(51154,)"
      ]
     },
     "execution_count": 70,
     "metadata": {},
     "output_type": "execute_result"
    }
   ],
   "source": [
    "y0_train.shape"
   ]
  },
  {
   "cell_type": "code",
   "execution_count": 71,
   "id": "39619301",
   "metadata": {
    "scrolled": false
   },
   "outputs": [
    {
     "data": {
      "text/plain": [
       "(51154, 10)"
      ]
     },
     "execution_count": 71,
     "metadata": {},
     "output_type": "execute_result"
    }
   ],
   "source": [
    "X0_train.shape"
   ]
  },
  {
   "cell_type": "code",
   "execution_count": 72,
   "id": "c7c396b7",
   "metadata": {},
   "outputs": [
    {
     "data": {
      "text/html": [
       "<div>\n",
       "<style scoped>\n",
       "    .dataframe tbody tr th:only-of-type {\n",
       "        vertical-align: middle;\n",
       "    }\n",
       "\n",
       "    .dataframe tbody tr th {\n",
       "        vertical-align: top;\n",
       "    }\n",
       "\n",
       "    .dataframe thead th {\n",
       "        text-align: right;\n",
       "    }\n",
       "</style>\n",
       "<table border=\"1\" class=\"dataframe\">\n",
       "  <thead>\n",
       "    <tr style=\"text-align: right;\">\n",
       "      <th></th>\n",
       "      <th>temporada_alta</th>\n",
       "      <th>semana_i</th>\n",
       "      <th>mes_i</th>\n",
       "      <th>dia_i</th>\n",
       "      <th>hora_i</th>\n",
       "      <th>opera_latam</th>\n",
       "      <th>opera_sky</th>\n",
       "      <th>opera_otro</th>\n",
       "      <th>fin_de_semana</th>\n",
       "      <th>flag_tipo_vuelo</th>\n",
       "    </tr>\n",
       "  </thead>\n",
       "  <tbody>\n",
       "    <tr>\n",
       "      <th>29595</th>\n",
       "      <td>0</td>\n",
       "      <td>26</td>\n",
       "      <td>6</td>\n",
       "      <td>27</td>\n",
       "      <td>6</td>\n",
       "      <td>1</td>\n",
       "      <td>0</td>\n",
       "      <td>0</td>\n",
       "      <td>0</td>\n",
       "      <td>0</td>\n",
       "    </tr>\n",
       "    <tr>\n",
       "      <th>4930</th>\n",
       "      <td>0</td>\n",
       "      <td>3</td>\n",
       "      <td>1</td>\n",
       "      <td>22</td>\n",
       "      <td>23</td>\n",
       "      <td>1</td>\n",
       "      <td>0</td>\n",
       "      <td>0</td>\n",
       "      <td>1</td>\n",
       "      <td>1</td>\n",
       "    </tr>\n",
       "    <tr>\n",
       "      <th>56344</th>\n",
       "      <td>0</td>\n",
       "      <td>48</td>\n",
       "      <td>11</td>\n",
       "      <td>27</td>\n",
       "      <td>1</td>\n",
       "      <td>0</td>\n",
       "      <td>0</td>\n",
       "      <td>1</td>\n",
       "      <td>0</td>\n",
       "      <td>1</td>\n",
       "    </tr>\n",
       "    <tr>\n",
       "      <th>37290</th>\n",
       "      <td>0</td>\n",
       "      <td>28</td>\n",
       "      <td>7</td>\n",
       "      <td>10</td>\n",
       "      <td>22</td>\n",
       "      <td>1</td>\n",
       "      <td>0</td>\n",
       "      <td>0</td>\n",
       "      <td>0</td>\n",
       "      <td>1</td>\n",
       "    </tr>\n",
       "    <tr>\n",
       "      <th>43235</th>\n",
       "      <td>0</td>\n",
       "      <td>31</td>\n",
       "      <td>8</td>\n",
       "      <td>3</td>\n",
       "      <td>0</td>\n",
       "      <td>1</td>\n",
       "      <td>0</td>\n",
       "      <td>0</td>\n",
       "      <td>0</td>\n",
       "      <td>1</td>\n",
       "    </tr>\n",
       "    <tr>\n",
       "      <th>...</th>\n",
       "      <td>...</td>\n",
       "      <td>...</td>\n",
       "      <td>...</td>\n",
       "      <td>...</td>\n",
       "      <td>...</td>\n",
       "      <td>...</td>\n",
       "      <td>...</td>\n",
       "      <td>...</td>\n",
       "      <td>...</td>\n",
       "      <td>...</td>\n",
       "    </tr>\n",
       "    <tr>\n",
       "      <th>625</th>\n",
       "      <td>0</td>\n",
       "      <td>1</td>\n",
       "      <td>1</td>\n",
       "      <td>4</td>\n",
       "      <td>1</td>\n",
       "      <td>0</td>\n",
       "      <td>0</td>\n",
       "      <td>1</td>\n",
       "      <td>0</td>\n",
       "      <td>1</td>\n",
       "    </tr>\n",
       "    <tr>\n",
       "      <th>7190</th>\n",
       "      <td>0</td>\n",
       "      <td>7</td>\n",
       "      <td>2</td>\n",
       "      <td>18</td>\n",
       "      <td>17</td>\n",
       "      <td>1</td>\n",
       "      <td>0</td>\n",
       "      <td>0</td>\n",
       "      <td>1</td>\n",
       "      <td>1</td>\n",
       "    </tr>\n",
       "    <tr>\n",
       "      <th>33867</th>\n",
       "      <td>0</td>\n",
       "      <td>27</td>\n",
       "      <td>7</td>\n",
       "      <td>3</td>\n",
       "      <td>11</td>\n",
       "      <td>0</td>\n",
       "      <td>1</td>\n",
       "      <td>0</td>\n",
       "      <td>0</td>\n",
       "      <td>0</td>\n",
       "    </tr>\n",
       "    <tr>\n",
       "      <th>41852</th>\n",
       "      <td>0</td>\n",
       "      <td>33</td>\n",
       "      <td>8</td>\n",
       "      <td>19</td>\n",
       "      <td>11</td>\n",
       "      <td>1</td>\n",
       "      <td>0</td>\n",
       "      <td>0</td>\n",
       "      <td>1</td>\n",
       "      <td>0</td>\n",
       "    </tr>\n",
       "    <tr>\n",
       "      <th>36535</th>\n",
       "      <td>1</td>\n",
       "      <td>29</td>\n",
       "      <td>7</td>\n",
       "      <td>22</td>\n",
       "      <td>19</td>\n",
       "      <td>1</td>\n",
       "      <td>0</td>\n",
       "      <td>0</td>\n",
       "      <td>1</td>\n",
       "      <td>0</td>\n",
       "    </tr>\n",
       "  </tbody>\n",
       "</table>\n",
       "<p>51154 rows × 10 columns</p>\n",
       "</div>"
      ],
      "text/plain": [
       "       temporada_alta  semana_i  mes_i  dia_i  hora_i  opera_latam  opera_sky  \\\n",
       "29595               0        26      6     27       6            1          0   \n",
       "4930                0         3      1     22      23            1          0   \n",
       "56344               0        48     11     27       1            0          0   \n",
       "37290               0        28      7     10      22            1          0   \n",
       "43235               0        31      8      3       0            1          0   \n",
       "...               ...       ...    ...    ...     ...          ...        ...   \n",
       "625                 0         1      1      4       1            0          0   \n",
       "7190                0         7      2     18      17            1          0   \n",
       "33867               0        27      7      3      11            0          1   \n",
       "41852               0        33      8     19      11            1          0   \n",
       "36535               1        29      7     22      19            1          0   \n",
       "\n",
       "       opera_otro  fin_de_semana  flag_tipo_vuelo  \n",
       "29595           0              0                0  \n",
       "4930            0              1                1  \n",
       "56344           1              0                1  \n",
       "37290           0              0                1  \n",
       "43235           0              0                1  \n",
       "...           ...            ...              ...  \n",
       "625             1              0                1  \n",
       "7190            0              1                1  \n",
       "33867           0              0                0  \n",
       "41852           0              1                0  \n",
       "36535           0              1                0  \n",
       "\n",
       "[51154 rows x 10 columns]"
      ]
     },
     "execution_count": 72,
     "metadata": {},
     "output_type": "execute_result"
    }
   ],
   "source": [
    "X0_train"
   ]
  },
  {
   "cell_type": "code",
   "execution_count": 73,
   "id": "a1048fe7",
   "metadata": {},
   "outputs": [
    {
     "name": "stdout",
     "output_type": "stream",
     "text": [
      "0    41668\n",
      "1     9486\n",
      "Name: atraso_15, dtype: int64\n"
     ]
    }
   ],
   "source": [
    "freq = y0_train.value_counts()\n",
    "print(freq) "
   ]
  },
  {
   "cell_type": "code",
   "execution_count": 74,
   "id": "a6db3cf0",
   "metadata": {},
   "outputs": [],
   "source": [
    "from xgboost import XGBClassifier"
   ]
  },
  {
   "cell_type": "code",
   "execution_count": 75,
   "id": "980f4538",
   "metadata": {},
   "outputs": [],
   "source": [
    "from sklearn.pipeline import Pipeline, FeatureUnion\n",
    "from xgboost import XGBRegressor\n",
    "from xgboost import XGBClassifier\n",
    "from xgboost import plot_importance\n",
    "from sklearn.pipeline import Pipeline\n",
    "from sklearn import ensemble\n"
   ]
  },
  {
   "cell_type": "code",
   "execution_count": 76,
   "id": "cdf17461",
   "metadata": {},
   "outputs": [],
   "source": [
    "pipeline= Pipeline([\n",
    "      ('xgbclassifier', XGBClassifier())\n",
    "])"
   ]
  },
  {
   "cell_type": "code",
   "execution_count": 77,
   "id": "80cfb866",
   "metadata": {},
   "outputs": [],
   "source": [
    "pipeline = pipeline.fit(X0_train, y0_train)"
   ]
  },
  {
   "cell_type": "code",
   "execution_count": 78,
   "id": "f9aedd1b",
   "metadata": {
    "scrolled": true
   },
   "outputs": [],
   "source": [
    "y0_test_predict = pipeline.predict(X0_test) \n",
    "y0_test_predict_proba = pipeline.predict_proba(X0_test) \n"
   ]
  },
  {
   "cell_type": "code",
   "execution_count": 79,
   "id": "6dc94dc7",
   "metadata": {},
   "outputs": [
    {
     "data": {
      "text/plain": [
       "array([0, 0, 0, ..., 0, 0, 0])"
      ]
     },
     "execution_count": 79,
     "metadata": {},
     "output_type": "execute_result"
    }
   ],
   "source": [
    "y0_test_predict"
   ]
  },
  {
   "cell_type": "code",
   "execution_count": 80,
   "id": "9fcdaf45",
   "metadata": {},
   "outputs": [
    {
     "name": "stdout",
     "output_type": "stream",
     "text": [
      "Score :0.8334832075693005\n"
     ]
    }
   ],
   "source": [
    "print(\"Score :\" + str(pipeline.score(X0_train, y0_train)))"
   ]
  },
  {
   "cell_type": "code",
   "execution_count": 81,
   "id": "1be7e9d2",
   "metadata": {},
   "outputs": [
    {
     "data": {
      "text/plain": [
       "0.18544004378934198"
      ]
     },
     "execution_count": 81,
     "metadata": {},
     "output_type": "execute_result"
    }
   ],
   "source": [
    "y0_train.mean()"
   ]
  },
  {
   "cell_type": "code",
   "execution_count": 82,
   "id": "00be1f23",
   "metadata": {},
   "outputs": [
    {
     "name": "stdout",
     "output_type": "stream",
     "text": [
      "[[13648   276]\n",
      " [ 2731   397]]\n"
     ]
    },
    {
     "data": {
      "image/png": "[encoded data removed]",
      "text/plain": [
       "<Figure size 432x288 with 2 Axes>"
      ]
     },
     "metadata": {
      "needs_background": "light"
     },
     "output_type": "display_data"
    }
   ],
   "source": [
    "from sklearn.metrics import confusion_matrix\n",
    "\n",
    "print(confusion_matrix(y0_test, y0_test_predict))\n",
    "\n",
    "# Grafico de matriz confusion\n",
    "\n",
    "plt.imshow(confusion_matrix(y0_test, y0_test_predict), cmap=\"Blues\")\n",
    "plt.colorbar(shrink=1)\n",
    "plt.xticks(range(2))\n",
    "plt.yticks(range(2))\n",
    "plt.xlabel(\"Etiqueta predicha\")\n",
    "plt.ylabel(\"Etiqueta real\");"
   ]
  },
  {
   "cell_type": "code",
   "execution_count": 83,
   "id": "5285f86a",
   "metadata": {},
   "outputs": [
    {
     "name": "stdout",
     "output_type": "stream",
     "text": [
      "Score :0.8236570490265072\n"
     ]
    }
   ],
   "source": [
    "#Validacion\n",
    "print(\"Score :\" + str(pipeline.score(X0_test, y0_test)))"
   ]
  },
  {
   "cell_type": "code",
   "execution_count": 84,
   "id": "5e108b9d",
   "metadata": {},
   "outputs": [
    {
     "data": {
      "text/plain": [
       "0.1834388927984987"
      ]
     },
     "execution_count": 84,
     "metadata": {},
     "output_type": "execute_result"
    }
   ],
   "source": [
    "y0_test.mean()"
   ]
  },
  {
   "cell_type": "code",
   "execution_count": 85,
   "id": "e6dcb02f",
   "metadata": {
    "scrolled": true
   },
   "outputs": [
    {
     "data": {
      "image/png": "[encoded data removed]",
      "text/plain": [
       "<Figure size 432x288 with 1 Axes>"
      ]
     },
     "metadata": {
      "needs_background": "light"
     },
     "output_type": "display_data"
    }
   ],
   "source": [
    "import matplotlib.pylab as plt\n",
    "from matplotlib import pyplot\n",
    "from xgboost import plot_importance\n",
    "plot_importance(pipeline[0], max_num_features=15) # top 10 most important features\n",
    "plt.show()"
   ]
  },
  {
   "cell_type": "markdown",
   "id": "23e20043",
   "metadata": {},
   "source": [
    "# 5. Conclusiones Entrenamiento \n",
    "\n",
    "Ocupé un modelo de clasificación Gradient Boosting, debido a que tienen un buen rendimiento en general, casi igual que regresión logistica, pero para hacer un modelo de regresión logistica se deben tramificar todas las variables. En cambio el modelo de GB se puede ingresar las variables númericas sin mucho tratamiento de datos.\n",
    "\n",
    "El modelo a pesar de tener pocas variables, tiene un buen rendimiento. Debido a que el score tanto para el entrenamiento y Test está por sobre del 0.80. La matriz de confusión demuestran lo mismo.\n",
    "(Otra forma de validar el modelo es través de LIFT, esta vez no lo hice por tiempo, pero es un buen indicador para medir el rendimiento del modelo, así vemos cuantas veces en los primeros deciles supera la tasa de respuesta natural, sobre 3 tenemos un buen modelo)\n",
    "\n",
    "Las principales variables hora, día y semana del modelo, lo que hace pensar que en ciertos periodos de tiempo se tiene una mayor probabilidad de atraso.\n",
    "\n",
    "El modelo se puede mejorar agregando las variables nominales pero transformadas en dummy u ordinalizadas (como por ejemplo el destino).\n",
    "También se pueden discretizar o ordinalizar las variables continuas, más las variables categoricas y entrenar un modelo de regresión lógistica u otro similar, para poder comparar los rendimientos.\n",
    "Las ventajas de un modelo de regresión logistica es que queda claramente expresado el aporte de las variables en cada tramo, esto permite explicar mejor las variables explicativas si es necesario para el negocio. De lo contrario solo utilizar un modelo de Gradient Boosting.\n",
    "\n",
    "También se puede mejorar el modelo analizando y definiendo bien el target, en este caso solo utilicé la variable target definida como atraso >15 min. Hacer un anális del target permite definir de mejor manera lo que queremos modelar y también así tener mejor predición e implementación del modelo.\n",
    "También podemos realizar análisis de outlier y excluir de ser necesario.\n",
    "Hacer análisis de multicolinealidad entre variables explicativas.\n",
    "También podemos aplicar WOE a las variables explicativas y volver a entrenar el modelo en regresión logistica u otro, esto nos permite discretizar las variables según el target (probabilidad de atraso).\n",
    "Y buscar más variables que nos permitan testear para mejorar el rendimiento del modelo como por ejemplo: Predicción del tiempo (siempre y cuando tengamos estas variables para aplicar el modelo).\n",
    "\n",
    "Un buen modelo será bueno siempre y cuando podamos implementar, aplicar, finalmente ayudar a las áreas de negocios a utilizar y utilizarlo!! :)"
   ]
  }
 ],
 "metadata": {
  "kernelspec": {
   "display_name": "Python 3 (ipykernel)",
   "language": "python",
   "name": "python3"
  },
  "language_info": {
   "codemirror_mode": {
    "name": "ipython",
    "version": 3
   },
   "file_extension": ".py",
   "mimetype": "text/x-python",
   "name": "python",
   "nbconvert_exporter": "python",
   "pygments_lexer": "ipython3",
   "version": "3.9.12"
  }
 },
 "nbformat": 4,
 "nbformat_minor": 5
}
